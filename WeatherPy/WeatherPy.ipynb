{
 "cells": [
  {
   "cell_type": "markdown",
   "metadata": {},
   "source": [
    "# WeatherPy\n",
    "----\n",
    "\n",
    "#### Note\n",
    "* Instructions have been included for each segment. You do not have to follow them exactly, but they are included to help you think through the steps."
   ]
  },
  {
   "cell_type": "code",
   "execution_count": 2,
   "metadata": {
    "scrolled": true
   },
   "outputs": [],
   "source": [
    "# Dependencies and Setup\n",
    "import matplotlib.pyplot as plt\n",
    "import pandas as pd\n",
    "import numpy as np\n",
    "import requests\n",
    "import time\n",
    "from datetime import datetime\n",
    "from scipy.stats import linregress\n",
    "\n",
    "# Import API key\n",
    "from api_keys import weather_api_key\n",
    "\n",
    "# Incorporated citipy to determine city based on latitude and longitude\n",
    "from citipy import citipy\n",
    "\n",
    "# Output File (CSV)\n",
    "output_data_file = \"../data/cities.csv\"\n",
    "\n",
    "# Range of latitudes and longitudes\n",
    "lat_range = (-90, 90)\n",
    "lng_range = (-180, 180)"
   ]
  },
  {
   "cell_type": "markdown",
   "metadata": {},
   "source": [
    "## Generate Cities List"
   ]
  },
  {
   "cell_type": "code",
   "execution_count": 3,
   "metadata": {},
   "outputs": [
    {
     "data": {
      "text/plain": [
       "627"
      ]
     },
     "execution_count": 3,
     "metadata": {},
     "output_type": "execute_result"
    }
   ],
   "source": [
    "# List for holding lat_lngs and cities\n",
    "lat_lngs = []\n",
    "cities = []\n",
    "\n",
    "# Create a set of random lat and lng combinations\n",
    "lats = np.random.uniform(lat_range[0], lat_range[1], size=1500)\n",
    "lngs = np.random.uniform(lng_range[0], lng_range[1], size=1500)\n",
    "lat_lngs = zip(lats, lngs)\n",
    "\n",
    "# Identify nearest city for each lat, lng combination\n",
    "for lat_lng in lat_lngs:\n",
    "    city = citipy.nearest_city(lat_lng[0], lat_lng[1]).city_name\n",
    "    \n",
    "    # If the city is unique, then add it to a our cities list\n",
    "    if city not in cities:\n",
    "        cities.append(city)\n",
    "\n",
    "# Print the city count to confirm sufficient count\n",
    "len(cities)"
   ]
  },
  {
   "cell_type": "markdown",
   "metadata": {},
   "source": [
    "### Perform API Calls\n",
    "* Perform a weather check on each city using a series of successive API calls.\n",
    "* Include a print log of each city as it'sbeing processed (with the city number and city name).\n"
   ]
  },
  {
   "cell_type": "code",
   "execution_count": 4,
   "metadata": {
    "scrolled": true
   },
   "outputs": [
    {
     "name": "stdout",
     "output_type": "stream",
     "text": [
      "Processing Record 1 of Set 1 | mataura\n",
      "Processing Record 2 of Set 1 | cherskiy\n",
      "Processing Record 3 of Set 1 | rio gallegos\n",
      "Processing Record 4 of Set 1 | bengkulu\n",
      "Processing Record 5 of Set 1 | sinjai\n",
      "Processing Record 6 of Set 1 | qaanaaq\n",
      "Processing Record 7 of Set 1 | coquimbo\n",
      "Processing Record 8 of Set 1 | saint-philippe\n",
      "Processing Record 9 of Set 1 | west lafayette\n",
      "Processing Record 10 of Set 1 | leningradskiy\n",
      "Processing Record 11 of Set 1 | rikitea\n",
      "Processing Record 12 of Set 1 | san patricio\n",
      "Processing Record 13 of Set 1 | namatanai\n",
      "Processing Record 14 of Set 1 | punta arenas\n",
      "Processing Record 15 of Set 1 | lorengau\n",
      "Processing Record 16 of Set 1 | ushuaia\n",
      "Processing Record 17 of Set 1 | torbay\n",
      "Processing Record 18 of Set 1 | kapaa\n",
      "Processing Record 19 of Set 1 | tuktoyaktuk\n",
      "City not found. Skipping...\n",
      "Processing Record 20 of Set 1 | salalah\n",
      "Processing Record 21 of Set 1 | butaritari\n",
      "Processing Record 22 of Set 1 | barrow\n",
      "Processing Record 23 of Set 1 | leua\n",
      "Processing Record 24 of Set 1 | kodiak\n",
      "City not found. Skipping...\n",
      "Processing Record 25 of Set 1 | kieta\n",
      "Processing Record 26 of Set 1 | hobart\n",
      "Processing Record 27 of Set 1 | petropavlovsk-kamchatskiy\n",
      "City not found. Skipping...\n",
      "Processing Record 28 of Set 1 | henties bay\n",
      "Processing Record 29 of Set 1 | ancud\n",
      "Processing Record 30 of Set 1 | vila velha\n",
      "Processing Record 31 of Set 1 | apatou\n",
      "Processing Record 32 of Set 1 | yar-sale\n",
      "Processing Record 33 of Set 1 | gizo\n",
      "Processing Record 34 of Set 1 | dioknisi\n",
      "Processing Record 35 of Set 1 | rzhaksa\n",
      "Processing Record 36 of Set 1 | khatanga\n",
      "Processing Record 37 of Set 1 | thinadhoo\n",
      "Processing Record 38 of Set 1 | hermanus\n",
      "City not found. Skipping...\n",
      "Processing Record 39 of Set 1 | la ronge\n",
      "City not found. Skipping...\n",
      "Processing Record 40 of Set 1 | hasaki\n",
      "Processing Record 41 of Set 1 | ulkan\n",
      "Processing Record 42 of Set 1 | hualmay\n",
      "Processing Record 43 of Set 1 | castro\n",
      "Processing Record 44 of Set 1 | busselton\n",
      "Processing Record 45 of Set 1 | sorland\n",
      "Processing Record 1 of Set 2 | bethel\n",
      "Processing Record 2 of Set 2 | christchurch\n",
      "Processing Record 3 of Set 2 | kibondo\n",
      "Processing Record 4 of Set 2 | viana\n",
      "Processing Record 5 of Set 2 | albany\n",
      "Processing Record 6 of Set 2 | guerrero negro\n",
      "Processing Record 7 of Set 2 | jamestown\n",
      "Processing Record 8 of Set 2 | nanortalik\n",
      "Processing Record 9 of Set 2 | deputatskiy\n",
      "Processing Record 10 of Set 2 | usinsk\n",
      "Processing Record 11 of Set 2 | arlit\n",
      "Processing Record 12 of Set 2 | bluff\n",
      "Processing Record 13 of Set 2 | port alfred\n",
      "Processing Record 14 of Set 2 | bathsheba\n",
      "Processing Record 15 of Set 2 | klaksvik\n",
      "Processing Record 16 of Set 2 | goma\n",
      "Processing Record 17 of Set 2 | santo amaro das brotas\n",
      "Processing Record 18 of Set 2 | kokomo\n",
      "Processing Record 19 of Set 2 | georgetown\n",
      "Processing Record 20 of Set 2 | vaini\n",
      "Processing Record 21 of Set 2 | aquiraz\n",
      "City not found. Skipping...\n",
      "Processing Record 22 of Set 2 | fuerte olimpo\n",
      "Processing Record 23 of Set 2 | vardo\n",
      "Processing Record 24 of Set 2 | hashtgerd\n",
      "City not found. Skipping...\n",
      "Processing Record 25 of Set 2 | sibiti\n",
      "Processing Record 26 of Set 2 | chuy\n",
      "Processing Record 27 of Set 2 | cape town\n",
      "Processing Record 28 of Set 2 | hellvik\n",
      "Processing Record 29 of Set 2 | mae ramat\n",
      "Processing Record 30 of Set 2 | amiens\n",
      "Processing Record 31 of Set 2 | laguna\n",
      "Processing Record 32 of Set 2 | talnakh\n",
      "Processing Record 33 of Set 2 | sao desiderio\n",
      "Processing Record 34 of Set 2 | effingham\n",
      "Processing Record 35 of Set 2 | aklavik\n",
      "Processing Record 36 of Set 2 | talakan\n",
      "Processing Record 37 of Set 2 | viedma\n",
      "Processing Record 38 of Set 2 | abu dhabi\n",
      "City not found. Skipping...\n",
      "City not found. Skipping...\n",
      "Processing Record 39 of Set 2 | severo-kurilsk\n",
      "Processing Record 40 of Set 2 | san quintin\n",
      "Processing Record 41 of Set 2 | rio tercero\n",
      "Processing Record 42 of Set 2 | hilo\n",
      "City not found. Skipping...\n",
      "Processing Record 43 of Set 2 | morfelden-walldorf\n",
      "Processing Record 44 of Set 2 | rawson\n",
      "Processing Record 45 of Set 2 | ponta do sol\n",
      "Processing Record 1 of Set 3 | mahebourg\n",
      "Processing Record 2 of Set 3 | santo antonio do ica\n",
      "Processing Record 3 of Set 3 | gangoh\n",
      "Processing Record 4 of Set 3 | saskylakh\n",
      "Processing Record 5 of Set 3 | mount gambier\n",
      "Processing Record 6 of Set 3 | boca do acre\n",
      "Processing Record 7 of Set 3 | nizhniy kuranakh\n",
      "Processing Record 8 of Set 3 | itarema\n",
      "Processing Record 9 of Set 3 | ambovombe\n",
      "Processing Record 10 of Set 3 | hithadhoo\n",
      "Processing Record 11 of Set 3 | jiaohe\n",
      "Processing Record 12 of Set 3 | akyab\n",
      "Processing Record 13 of Set 3 | wanlaweyn\n",
      "Processing Record 14 of Set 3 | east london\n",
      "Processing Record 15 of Set 3 | furmanov\n",
      "City not found. Skipping...\n",
      "Processing Record 16 of Set 3 | cooma\n",
      "Processing Record 17 of Set 3 | kahului\n",
      "Processing Record 18 of Set 3 | port blair\n",
      "Processing Record 19 of Set 3 | souillac\n",
      "Processing Record 20 of Set 3 | cockburn town\n",
      "Processing Record 21 of Set 3 | avarua\n",
      "Processing Record 22 of Set 3 | prainha\n",
      "Processing Record 23 of Set 3 | cidreira\n",
      "Processing Record 24 of Set 3 | mount isa\n",
      "Processing Record 25 of Set 3 | nabire\n",
      "Processing Record 26 of Set 3 | montepuez\n",
      "Processing Record 27 of Set 3 | atuona\n",
      "Processing Record 28 of Set 3 | kutum\n",
      "Processing Record 29 of Set 3 | atar\n",
      "Processing Record 30 of Set 3 | grand-lahou\n",
      "City not found. Skipping...\n",
      "Processing Record 31 of Set 3 | ilulissat\n",
      "Processing Record 32 of Set 3 | sinnamary\n",
      "Processing Record 33 of Set 3 | yumen\n",
      "Processing Record 34 of Set 3 | srednekolymsk\n",
      "City not found. Skipping...\n",
      "Processing Record 35 of Set 3 | tasiilaq\n",
      "Processing Record 36 of Set 3 | carbonia\n",
      "Processing Record 37 of Set 3 | ciudad guayana\n",
      "Processing Record 38 of Set 3 | alyangula\n",
      "Processing Record 39 of Set 3 | yellowknife\n",
      "Processing Record 40 of Set 3 | barcelos\n",
      "Processing Record 41 of Set 3 | mardin\n",
      "Processing Record 42 of Set 3 | sao filipe\n",
      "Processing Record 43 of Set 3 | ponta delgada\n",
      "Processing Record 44 of Set 3 | kasangulu\n",
      "Processing Record 45 of Set 3 | tiksi\n",
      "Processing Record 46 of Set 3 | puerto ayora\n",
      "Processing Record 47 of Set 3 | nouakchott\n",
      "Processing Record 1 of Set 4 | ilhabela\n",
      "Processing Record 2 of Set 4 | lebu\n",
      "Processing Record 3 of Set 4 | mar del plata\n",
      "Processing Record 4 of Set 4 | bredasdorp\n",
      "Processing Record 5 of Set 4 | hambantota\n",
      "Processing Record 6 of Set 4 | griffith\n",
      "City not found. Skipping...\n",
      "City not found. Skipping...\n",
      "Processing Record 7 of Set 4 | tezu\n",
      "Processing Record 8 of Set 4 | west wendover\n",
      "Processing Record 9 of Set 4 | oranjemund\n",
      "Processing Record 10 of Set 4 | hofn\n",
      "Processing Record 11 of Set 4 | zhigansk\n",
      "Processing Record 12 of Set 4 | nantucket\n",
      "Processing Record 13 of Set 4 | grindavik\n",
      "Processing Record 14 of Set 4 | cabo san lucas\n",
      "Processing Record 15 of Set 4 | dikson\n",
      "Processing Record 16 of Set 4 | kasongo-lunda\n",
      "Processing Record 17 of Set 4 | marion\n",
      "Processing Record 18 of Set 4 | margate\n",
      "Processing Record 19 of Set 4 | odessa\n",
      "Processing Record 20 of Set 4 | uni\n",
      "Processing Record 21 of Set 4 | port elizabeth\n",
      "City not found. Skipping...\n",
      "Processing Record 22 of Set 4 | flinders\n",
      "City not found. Skipping...\n",
      "Processing Record 23 of Set 4 | varhaug\n",
      "Processing Record 24 of Set 4 | phonhong\n",
      "City not found. Skipping...\n",
      "Processing Record 25 of Set 4 | cayenne\n",
      "Processing Record 26 of Set 4 | saint-pierre\n",
      "Processing Record 27 of Set 4 | victoria\n",
      "City not found. Skipping...\n",
      "Processing Record 28 of Set 4 | ola\n",
      "Processing Record 29 of Set 4 | egvekinot\n",
      "Processing Record 30 of Set 4 | esmeraldas\n",
      "Processing Record 31 of Set 4 | awbari\n",
      "Processing Record 32 of Set 4 | cullman\n",
      "Processing Record 33 of Set 4 | katobu\n",
      "Processing Record 34 of Set 4 | muros\n",
      "City not found. Skipping...\n",
      "Processing Record 35 of Set 4 | riverton\n",
      "Processing Record 36 of Set 4 | oistins\n",
      "Processing Record 37 of Set 4 | sao joao da barra\n",
      "Processing Record 38 of Set 4 | camacha\n",
      "Processing Record 39 of Set 4 | walvis bay\n",
      "Processing Record 40 of Set 4 | poum\n",
      "Processing Record 41 of Set 4 | los llanos de aridane\n",
      "Processing Record 42 of Set 4 | tilichiki\n",
      "Processing Record 43 of Set 4 | tianpeng\n",
      "Processing Record 1 of Set 5 | coihaique\n",
      "Processing Record 2 of Set 5 | tazovskiy\n",
      "Processing Record 3 of Set 5 | kijang\n",
      "Processing Record 4 of Set 5 | honiara\n",
      "Processing Record 5 of Set 5 | port hardy\n"
     ]
    },
    {
     "name": "stdout",
     "output_type": "stream",
     "text": [
      "Processing Record 6 of Set 5 | airai\n",
      "Processing Record 7 of Set 5 | batagay-alyta\n",
      "Processing Record 8 of Set 5 | arkhipo-osipovka\n",
      "City not found. Skipping...\n",
      "City not found. Skipping...\n",
      "Processing Record 9 of Set 5 | hovd\n",
      "Processing Record 10 of Set 5 | longhua\n",
      "Processing Record 11 of Set 5 | mana\n",
      "Processing Record 12 of Set 5 | moche\n",
      "City not found. Skipping...\n",
      "Processing Record 13 of Set 5 | padang\n",
      "Processing Record 14 of Set 5 | provideniya\n",
      "Processing Record 15 of Set 5 | dunedin\n",
      "Processing Record 16 of Set 5 | new norfolk\n",
      "Processing Record 17 of Set 5 | puerto ayacucho\n",
      "Processing Record 18 of Set 5 | cardenas\n",
      "Processing Record 19 of Set 5 | hammond\n",
      "Processing Record 20 of Set 5 | porterville\n",
      "Processing Record 21 of Set 5 | zonguldak\n",
      "Processing Record 22 of Set 5 | quatre cocos\n",
      "City not found. Skipping...\n",
      "Processing Record 23 of Set 5 | gamba\n",
      "Processing Record 24 of Set 5 | upernavik\n",
      "Processing Record 25 of Set 5 | tabuk\n",
      "Processing Record 26 of Set 5 | nikolskoye\n",
      "Processing Record 27 of Set 5 | teknaf\n",
      "City not found. Skipping...\n",
      "Processing Record 28 of Set 5 | lalpur\n",
      "Processing Record 29 of Set 5 | saint-louis\n",
      "Processing Record 30 of Set 5 | santa rosa\n",
      "Processing Record 31 of Set 5 | tuburan\n",
      "City not found. Skipping...\n",
      "Processing Record 32 of Set 5 | mehamn\n",
      "Processing Record 33 of Set 5 | beyneu\n",
      "Processing Record 34 of Set 5 | bikaner\n",
      "Processing Record 35 of Set 5 | muroto\n",
      "City not found. Skipping...\n",
      "Processing Record 36 of Set 5 | thunder bay\n",
      "Processing Record 37 of Set 5 | capiibary\n",
      "City not found. Skipping...\n",
      "Processing Record 38 of Set 5 | quzhou\n",
      "Processing Record 39 of Set 5 | riyadh\n",
      "Processing Record 40 of Set 5 | pangai\n",
      "Processing Record 41 of Set 5 | wenling\n",
      "Processing Record 42 of Set 5 | sitka\n",
      "Processing Record 1 of Set 6 | thompson\n",
      "Processing Record 2 of Set 6 | korla\n",
      "Processing Record 3 of Set 6 | young\n",
      "Processing Record 4 of Set 6 | zemio\n",
      "Processing Record 5 of Set 6 | singaraja\n",
      "Processing Record 6 of Set 6 | betioky\n",
      "Processing Record 7 of Set 6 | aksu\n",
      "Processing Record 8 of Set 6 | wanxian\n",
      "City not found. Skipping...\n",
      "Processing Record 9 of Set 6 | te anau\n",
      "Processing Record 10 of Set 6 | nancha\n",
      "Processing Record 11 of Set 6 | inhambane\n",
      "Processing Record 12 of Set 6 | galiakot\n",
      "Processing Record 13 of Set 6 | kloulklubed\n",
      "Processing Record 14 of Set 6 | barreirinha\n",
      "Processing Record 15 of Set 6 | alice springs\n",
      "Processing Record 16 of Set 6 | merauke\n",
      "Processing Record 17 of Set 6 | artigas\n",
      "Processing Record 18 of Set 6 | aragats\n",
      "Processing Record 19 of Set 6 | lompoc\n",
      "Processing Record 20 of Set 6 | itupiranga\n",
      "Processing Record 21 of Set 6 | moose factory\n",
      "Processing Record 22 of Set 6 | comillas\n",
      "Processing Record 23 of Set 6 | andros town\n",
      "Processing Record 24 of Set 6 | spas-klepiki\n",
      "Processing Record 25 of Set 6 | kenai\n",
      "Processing Record 26 of Set 6 | lebanon\n",
      "Processing Record 27 of Set 6 | cienaga de oro\n",
      "Processing Record 28 of Set 6 | xuddur\n",
      "City not found. Skipping...\n",
      "Processing Record 29 of Set 6 | kaseda\n",
      "Processing Record 30 of Set 6 | silves\n",
      "City not found. Skipping...\n",
      "Processing Record 31 of Set 6 | blagoyevo\n",
      "Processing Record 32 of Set 6 | hami\n",
      "Processing Record 33 of Set 6 | pangnirtung\n",
      "Processing Record 34 of Set 6 | pacific grove\n",
      "Processing Record 35 of Set 6 | caravelas\n",
      "Processing Record 36 of Set 6 | jinchang\n",
      "Processing Record 37 of Set 6 | lagoa\n",
      "Processing Record 38 of Set 6 | nyurba\n",
      "Processing Record 39 of Set 6 | roermond\n",
      "Processing Record 40 of Set 6 | danielskuil\n",
      "Processing Record 41 of Set 6 | brae\n",
      "Processing Record 42 of Set 6 | high level\n",
      "Processing Record 43 of Set 6 | englewood\n",
      "City not found. Skipping...\n",
      "Processing Record 44 of Set 6 | dongobesh\n",
      "Processing Record 45 of Set 6 | yulara\n",
      "Processing Record 46 of Set 6 | basco\n",
      "Processing Record 1 of Set 7 | micheweni\n",
      "Processing Record 2 of Set 7 | turukhansk\n",
      "Processing Record 3 of Set 7 | midleton\n",
      "Processing Record 4 of Set 7 | montrose\n",
      "Processing Record 5 of Set 7 | carnarvon\n",
      "Processing Record 6 of Set 7 | buzmeyin\n",
      "Processing Record 7 of Set 7 | ulladulla\n",
      "Processing Record 8 of Set 7 | longyearbyen\n",
      "Processing Record 9 of Set 7 | mezen\n",
      "Processing Record 10 of Set 7 | lavrentiya\n",
      "Processing Record 11 of Set 7 | lata\n",
      "Processing Record 12 of Set 7 | pevek\n",
      "Processing Record 13 of Set 7 | rio grande\n",
      "Processing Record 14 of Set 7 | santa fe\n",
      "Processing Record 15 of Set 7 | chokurdakh\n",
      "Processing Record 16 of Set 7 | antakya\n",
      "City not found. Skipping...\n",
      "City not found. Skipping...\n",
      "Processing Record 17 of Set 7 | kalaleh\n",
      "Processing Record 18 of Set 7 | kutno\n",
      "City not found. Skipping...\n",
      "Processing Record 19 of Set 7 | kibi\n",
      "Processing Record 20 of Set 7 | primorsk\n",
      "Processing Record 21 of Set 7 | lerwick\n",
      "Processing Record 22 of Set 7 | vaitape\n",
      "Processing Record 23 of Set 7 | innisfail\n",
      "Processing Record 24 of Set 7 | aswan\n",
      "City not found. Skipping...\n",
      "Processing Record 25 of Set 7 | sioux lookout\n",
      "Processing Record 26 of Set 7 | hamilton\n",
      "Processing Record 27 of Set 7 | tres palos\n",
      "Processing Record 28 of Set 7 | ixtapa\n",
      "Processing Record 29 of Set 7 | broome\n",
      "Processing Record 30 of Set 7 | saint george\n",
      "Processing Record 31 of Set 7 | narok\n",
      "Processing Record 32 of Set 7 | grafenau\n",
      "Processing Record 33 of Set 7 | santa cruz\n",
      "City not found. Skipping...\n",
      "City not found. Skipping...\n",
      "Processing Record 34 of Set 7 | leh\n",
      "Processing Record 35 of Set 7 | grand gaube\n",
      "Processing Record 36 of Set 7 | jalu\n",
      "Processing Record 37 of Set 7 | luderitz\n",
      "Processing Record 38 of Set 7 | inzhavino\n",
      "City not found. Skipping...\n",
      "Processing Record 39 of Set 7 | batagay\n",
      "Processing Record 40 of Set 7 | quelimane\n",
      "Processing Record 41 of Set 7 | fortuna\n",
      "Processing Record 42 of Set 7 | adre\n",
      "Processing Record 43 of Set 7 | banda aceh\n",
      "Processing Record 1 of Set 8 | chalatenango\n",
      "Processing Record 2 of Set 8 | dukat\n",
      "City not found. Skipping...\n",
      "Processing Record 3 of Set 8 | kaitangata\n",
      "Processing Record 4 of Set 8 | belaya kholunitsa\n",
      "Processing Record 5 of Set 8 | salinopolis\n",
      "Processing Record 6 of Set 8 | belaya gora\n",
      "Processing Record 7 of Set 8 | kulaman\n",
      "Processing Record 8 of Set 8 | sobolevo\n",
      "Processing Record 9 of Set 8 | saint-joseph\n",
      "Processing Record 10 of Set 8 | moranbah\n",
      "City not found. Skipping...\n",
      "Processing Record 11 of Set 8 | santiago\n",
      "Processing Record 12 of Set 8 | kavieng\n",
      "Processing Record 13 of Set 8 | police\n",
      "Processing Record 14 of Set 8 | dano\n",
      "Processing Record 15 of Set 8 | naguabo\n",
      "Processing Record 16 of Set 8 | narrabri\n",
      "Processing Record 17 of Set 8 | veraval\n",
      "Processing Record 18 of Set 8 | sabzevar\n",
      "Processing Record 19 of Set 8 | labytnangi\n",
      "Processing Record 20 of Set 8 | san buenaventura\n",
      "Processing Record 21 of Set 8 | esperance\n",
      "Processing Record 22 of Set 8 | mallaig\n",
      "Processing Record 23 of Set 8 | codrington\n",
      "Processing Record 24 of Set 8 | norman wells\n",
      "City not found. Skipping...\n",
      "Processing Record 25 of Set 8 | riohacha\n",
      "Processing Record 26 of Set 8 | san pedro\n",
      "City not found. Skipping...\n",
      "Processing Record 27 of Set 8 | port lincoln\n",
      "Processing Record 28 of Set 8 | quang ngai\n",
      "Processing Record 29 of Set 8 | bayji\n",
      "Processing Record 30 of Set 8 | vangaindrano\n",
      "City not found. Skipping...\n",
      "Processing Record 31 of Set 8 | moerai\n",
      "Processing Record 32 of Set 8 | fairbanks\n",
      "Processing Record 33 of Set 8 | punta cardon\n",
      "Processing Record 34 of Set 8 | svetlyy\n",
      "Processing Record 35 of Set 8 | poya\n",
      "City not found. Skipping...\n",
      "Processing Record 36 of Set 8 | nalut\n",
      "Processing Record 37 of Set 8 | freeport\n",
      "Processing Record 38 of Set 8 | morros\n",
      "Processing Record 39 of Set 8 | lapeer\n",
      "Processing Record 40 of Set 8 | miandrivazo\n",
      "Processing Record 41 of Set 8 | marsh harbour\n",
      "Processing Record 42 of Set 8 | garachine\n",
      "Processing Record 43 of Set 8 | kushiro\n",
      "Processing Record 44 of Set 8 | lianran\n",
      "Processing Record 1 of Set 9 | prince rupert\n",
      "Processing Record 2 of Set 9 | vostok\n",
      "Processing Record 3 of Set 9 | dingle\n",
      "City not found. Skipping...\n",
      "Processing Record 4 of Set 9 | kawalu\n",
      "Processing Record 5 of Set 9 | rocha\n",
      "Processing Record 6 of Set 9 | karaj\n",
      "Processing Record 7 of Set 9 | altamont\n",
      "Processing Record 8 of Set 9 | champerico\n",
      "Processing Record 9 of Set 9 | svetlogorsk\n",
      "Processing Record 10 of Set 9 | darhan\n",
      "Processing Record 11 of Set 9 | goderich\n",
      "Processing Record 12 of Set 9 | drakhtik\n",
      "Processing Record 13 of Set 9 | kirakira\n"
     ]
    },
    {
     "name": "stdout",
     "output_type": "stream",
     "text": [
      "Processing Record 14 of Set 9 | clyde river\n",
      "Processing Record 15 of Set 9 | mao\n",
      "Processing Record 16 of Set 9 | pisco\n",
      "Processing Record 17 of Set 9 | martapura\n",
      "Processing Record 18 of Set 9 | sanchor\n",
      "Processing Record 19 of Set 9 | acapulco\n",
      "Processing Record 20 of Set 9 | anaconda\n",
      "Processing Record 21 of Set 9 | buala\n",
      "Processing Record 22 of Set 9 | lichinga\n",
      "Processing Record 23 of Set 9 | amapa\n",
      "Processing Record 24 of Set 9 | nome\n",
      "City not found. Skipping...\n",
      "Processing Record 25 of Set 9 | bunda\n",
      "Processing Record 26 of Set 9 | fukue\n",
      "Processing Record 27 of Set 9 | changji\n",
      "Processing Record 28 of Set 9 | robertsport\n",
      "City not found. Skipping...\n",
      "Processing Record 29 of Set 9 | kainantu\n",
      "Processing Record 30 of Set 9 | dali\n",
      "Processing Record 31 of Set 9 | saint-francois\n",
      "Processing Record 32 of Set 9 | shellbrook\n",
      "Processing Record 33 of Set 9 | kruisfontein\n",
      "Processing Record 34 of Set 9 | beloha\n",
      "Processing Record 35 of Set 9 | pandan\n",
      "Processing Record 36 of Set 9 | conde\n",
      "Processing Record 37 of Set 9 | naze\n",
      "Processing Record 38 of Set 9 | paysandu\n",
      "Processing Record 39 of Set 9 | giresun\n",
      "Processing Record 40 of Set 9 | fort frances\n",
      "Processing Record 41 of Set 9 | masuguru\n",
      "Processing Record 42 of Set 9 | kambove\n",
      "Processing Record 43 of Set 9 | sur\n",
      "Processing Record 44 of Set 9 | ahipara\n",
      "Processing Record 45 of Set 9 | camabatela\n",
      "Processing Record 46 of Set 9 | nhulunbuy\n",
      "Processing Record 47 of Set 9 | serra talhada\n",
      "Processing Record 1 of Set 10 | kavaratti\n",
      "Processing Record 2 of Set 10 | alindao\n",
      "Processing Record 3 of Set 10 | pascagoula\n",
      "Processing Record 4 of Set 10 | omboue\n",
      "Processing Record 5 of Set 10 | mersing\n",
      "Processing Record 6 of Set 10 | xiuyan\n",
      "Processing Record 7 of Set 10 | norsup\n",
      "Processing Record 8 of Set 10 | minna\n",
      "Processing Record 9 of Set 10 | nichinan\n",
      "Processing Record 10 of Set 10 | blacksburg\n",
      "Processing Record 11 of Set 10 | baykit\n",
      "Processing Record 12 of Set 10 | traralgon\n",
      "Processing Record 13 of Set 10 | yarada\n",
      "Processing Record 14 of Set 10 | callaway\n",
      "Processing Record 15 of Set 10 | karakol\n",
      "Processing Record 16 of Set 10 | lamovita\n",
      "Processing Record 17 of Set 10 | kadhan\n",
      "Processing Record 18 of Set 10 | ayabaca\n",
      "Processing Record 19 of Set 10 | samarai\n",
      "Processing Record 20 of Set 10 | kaeo\n",
      "City not found. Skipping...\n",
      "Processing Record 21 of Set 10 | lake charles\n",
      "Processing Record 22 of Set 10 | libertador general san martin\n",
      "Processing Record 23 of Set 10 | kamphaeng phet\n",
      "Processing Record 24 of Set 10 | yenagoa\n",
      "Processing Record 25 of Set 10 | ahuimanu\n",
      "Processing Record 26 of Set 10 | sungaipenuh\n",
      "Processing Record 27 of Set 10 | homer\n",
      "Processing Record 28 of Set 10 | pundaguitan\n",
      "Processing Record 29 of Set 10 | sholokhovskiy\n",
      "Processing Record 30 of Set 10 | hobyo\n",
      "Processing Record 31 of Set 10 | richards bay\n",
      "City not found. Skipping...\n",
      "Processing Record 32 of Set 10 | kant\n",
      "Processing Record 33 of Set 10 | katsuura\n",
      "Processing Record 34 of Set 10 | illapel\n",
      "Processing Record 35 of Set 10 | jumla\n",
      "Processing Record 36 of Set 10 | wattegama\n",
      "Processing Record 37 of Set 10 | puerto escondido\n",
      "Processing Record 38 of Set 10 | bambous virieux\n",
      "Processing Record 39 of Set 10 | preobrazheniye\n",
      "Processing Record 40 of Set 10 | vila franca do campo\n",
      "Processing Record 41 of Set 10 | lengshuijiang\n",
      "Processing Record 42 of Set 10 | sun valley\n",
      "Processing Record 43 of Set 10 | mizusawa\n",
      "Processing Record 44 of Set 10 | diplo\n",
      "Processing Record 45 of Set 10 | leshan\n",
      "Processing Record 46 of Set 10 | sao sebastiao\n",
      "Processing Record 47 of Set 10 | manta\n",
      "Processing Record 48 of Set 10 | isangel\n",
      "Processing Record 1 of Set 11 | boston\n",
      "Processing Record 2 of Set 11 | rajura\n",
      "Processing Record 3 of Set 11 | dicabisagan\n",
      "Processing Record 4 of Set 11 | paraiso\n",
      "Processing Record 5 of Set 11 | iqaluit\n",
      "Processing Record 6 of Set 11 | mitsamiouli\n",
      "Processing Record 7 of Set 11 | husavik\n",
      "Processing Record 8 of Set 11 | razdolinsk\n",
      "City not found. Skipping...\n",
      "Processing Record 9 of Set 11 | arraial do cabo\n",
      "Processing Record 10 of Set 11 | madang\n",
      "Processing Record 11 of Set 11 | loukhi\n",
      "Processing Record 12 of Set 11 | erenhot\n",
      "Processing Record 13 of Set 11 | talcahuano\n",
      "Processing Record 14 of Set 11 | narsaq\n",
      "Processing Record 15 of Set 11 | hirado\n",
      "Processing Record 16 of Set 11 | murayama\n",
      "Processing Record 17 of Set 11 | canto do buriti\n",
      "Processing Record 18 of Set 11 | kalga\n",
      "Processing Record 19 of Set 11 | san felipe\n",
      "Processing Record 20 of Set 11 | pitimbu\n",
      "Processing Record 21 of Set 11 | olinda\n",
      "Processing Record 22 of Set 11 | itoman\n",
      "Processing Record 23 of Set 11 | seoul\n",
      "Processing Record 24 of Set 11 | alofi\n",
      "Processing Record 25 of Set 11 | boyolangu\n",
      "Processing Record 26 of Set 11 | tessalit\n",
      "Processing Record 27 of Set 11 | talaya\n",
      "Processing Record 28 of Set 11 | praia da vitoria\n",
      "Processing Record 29 of Set 11 | huilong\n",
      "Processing Record 30 of Set 11 | kaura namoda\n",
      "Processing Record 31 of Set 11 | shieli\n",
      "Processing Record 32 of Set 11 | churhat\n",
      "Processing Record 33 of Set 11 | emba\n",
      "Processing Record 34 of Set 11 | portland\n",
      "Processing Record 35 of Set 11 | opuwo\n",
      "Processing Record 36 of Set 11 | rabak\n",
      "Processing Record 37 of Set 11 | ribeira grande\n",
      "Processing Record 38 of Set 11 | vurgun\n",
      "City not found. Skipping...\n",
      "Processing Record 39 of Set 11 | kangaba\n",
      "Processing Record 40 of Set 11 | kununurra\n",
      "Processing Record 41 of Set 11 | penzance\n",
      "Processing Record 42 of Set 11 | mashhad\n",
      "Processing Record 43 of Set 11 | marienburg\n",
      "City not found. Skipping...\n",
      "Processing Record 44 of Set 11 | gat\n",
      "Processing Record 45 of Set 11 | udachnyy\n",
      "City not found. Skipping...\n",
      "Processing Record 46 of Set 11 | yabrud\n",
      "Processing Record 1 of Set 12 | nsanje\n",
      "Processing Record 2 of Set 12 | pemangkat\n",
      "Processing Record 3 of Set 12 | tygda\n",
      "Processing Record 4 of Set 12 | amarpur\n",
      "Processing Record 5 of Set 12 | chukhloma\n",
      "Processing Record 6 of Set 12 | yunhe\n",
      "Processing Record 7 of Set 12 | ambon\n",
      "Processing Record 8 of Set 12 | mayumba\n",
      "Processing Record 9 of Set 12 | vershino-darasunskiy\n",
      "Processing Record 10 of Set 12 | cayhagan\n",
      "Processing Record 11 of Set 12 | mount pleasant\n",
      "Processing Record 12 of Set 12 | yatou\n",
      "Processing Record 13 of Set 12 | helensburgh\n",
      "Processing Record 14 of Set 12 | xining\n",
      "Processing Record 15 of Set 12 | sicamous\n",
      "Processing Record 16 of Set 12 | bulawayo\n",
      "Processing Record 17 of Set 12 | carauari\n",
      "City not found. Skipping...\n",
      "Processing Record 18 of Set 12 | sheksna\n",
      "Processing Record 19 of Set 12 | saint-augustin\n",
      "Processing Record 20 of Set 12 | tanda\n",
      "Processing Record 21 of Set 12 | bras-panon\n",
      "Processing Record 22 of Set 12 | batemans bay\n",
      "Processing Record 23 of Set 12 | yanam\n",
      "Processing Record 24 of Set 12 | whitehorse\n",
      "Processing Record 25 of Set 12 | auki\n",
      "Processing Record 26 of Set 12 | shizunai\n",
      "City not found. Skipping...\n",
      "Processing Record 27 of Set 12 | tokmak\n",
      "Processing Record 28 of Set 12 | umm lajj\n",
      "Processing Record 29 of Set 12 | wanning\n",
      "Processing Record 30 of Set 12 | sena madureira\n",
      "Processing Record 31 of Set 12 | saldanha\n",
      "Processing Record 32 of Set 12 | kimbe\n",
      "Processing Record 33 of Set 12 | birao\n",
      "City not found. Skipping...\n",
      "Processing Record 34 of Set 12 | phan thiet\n",
      "Processing Record 35 of Set 12 | payakumbuh\n",
      "Processing Record 36 of Set 12 | san juan\n",
      "Processing Record 37 of Set 12 | sawtell\n",
      "Processing Record 38 of Set 12 | nouadhibou\n",
      "Processing Record 39 of Set 12 | tanggul\n",
      "Processing Record 40 of Set 12 | taywarah\n",
      "Processing Record 41 of Set 12 | isiro\n",
      "Processing Record 42 of Set 12 | fort pierce\n",
      "Processing Record 43 of Set 12 | mbuguni\n",
      "City not found. Skipping...\n",
      "Processing Record 44 of Set 12 | puri\n",
      "Processing Record 45 of Set 12 | linhares\n",
      "Processing Record 46 of Set 12 | asau\n",
      "Processing Record 1 of Set 13 | mayo\n",
      "Processing Record 2 of Set 13 | port moresby\n",
      "Processing Record 3 of Set 13 | shimoda\n",
      "Processing Record 4 of Set 13 | linxia\n",
      "City not found. Skipping...\n",
      "Processing Record 5 of Set 13 | bartica\n",
      "Processing Record 6 of Set 13 | faanui\n",
      "Processing Record 7 of Set 13 | eenhana\n",
      "Processing Record 8 of Set 13 | osa\n",
      "Processing Record 9 of Set 13 | macapa\n",
      "Processing Record 10 of Set 13 | puerto palomas\n",
      "Processing Record 11 of Set 13 | tomatlan\n",
      "Processing Record 12 of Set 13 | charlestown\n",
      "Processing Record 13 of Set 13 | ostrovnoy\n",
      "Processing Record 14 of Set 13 | sumbal\n"
     ]
    },
    {
     "name": "stdout",
     "output_type": "stream",
     "text": [
      "Processing Record 15 of Set 13 | bekhtery\n",
      "Processing Record 16 of Set 13 | imbituba\n",
      "Processing Record 17 of Set 13 | aksarka\n",
      "Processing Record 18 of Set 13 | geraldton\n",
      "City not found. Skipping...\n",
      "Processing Record 19 of Set 13 | dhrangadhra\n",
      "Processing Record 20 of Set 13 | dolores\n",
      "Processing Record 21 of Set 13 | nemuro\n",
      "Processing Record 22 of Set 13 | cururupu\n",
      "Processing Record 23 of Set 13 | eureka\n",
      "Processing Record 24 of Set 13 | terra santa\n",
      "City not found. Skipping...\n"
     ]
    }
   ],
   "source": [
    "# Create your url for the api\n",
    "url = \"https://api.openweathermap.org/data/2.5/weather?\"\n",
    "units = \"imperial\"\n",
    "query_url = f\"{url}&appid={weather_api_key}&units={units}&q=\"\n",
    "\n",
    "set_num = 1\n",
    "rec_num = 1\n",
    "\n",
    "#Create lists\n",
    "cities_found = []\n",
    "lat = []\n",
    "lng = []\n",
    "maxtemp = []\n",
    "humidity = []\n",
    "cloudiness = []\n",
    "wind_speed = []\n",
    "country = []\n",
    "date = []\n",
    "\n",
    "for i, city in enumerate(cities):\n",
    "    if(i%50==0 and i>=50):\n",
    "        set_num +=1\n",
    "        rec_num = 1\n",
    "    try:\n",
    "        response = requests.get(query_url + city).json()\n",
    "        lat.append(response[\"coord\"][\"lat\"])\n",
    "        lng.append(response[\"coord\"][\"lon\"])\n",
    "        maxtemp.append(response[\"main\"][\"temp_max\"])\n",
    "        humidity.append(response[\"main\"][\"humidity\"])\n",
    "        cloudiness.append(response[\"clouds\"][\"all\"])\n",
    "        wind_speed.append(response[\"wind\"][\"speed\"])\n",
    "        country.append(response[\"sys\"][\"country\"])\n",
    "        date.append(response[\"dt\"])\n",
    "        cities_found.append(city)\n",
    "        print(\"Processing Record \" + str(rec_num) + \" of Set \" + str(set_num) + \" | \" + city)\n",
    "        rec_num = rec_num + 1\n",
    "    except:\n",
    "        print(f\"City not found. Skipping...\")\n",
    "\n",
    "time.sleep(.5)"
   ]
  },
  {
   "cell_type": "markdown",
   "metadata": {},
   "source": [
    "### Convert Raw Data to DataFrame\n",
    "* Export the city data into a .csv.\n",
    "* Display the DataFrame"
   ]
  },
  {
   "cell_type": "code",
   "execution_count": 5,
   "metadata": {},
   "outputs": [
    {
     "data": {
      "text/html": [
       "<div>\n",
       "<style scoped>\n",
       "    .dataframe tbody tr th:only-of-type {\n",
       "        vertical-align: middle;\n",
       "    }\n",
       "\n",
       "    .dataframe tbody tr th {\n",
       "        vertical-align: top;\n",
       "    }\n",
       "\n",
       "    .dataframe thead th {\n",
       "        text-align: right;\n",
       "    }\n",
       "</style>\n",
       "<table border=\"1\" class=\"dataframe\">\n",
       "  <thead>\n",
       "    <tr style=\"text-align: right;\">\n",
       "      <th></th>\n",
       "      <th>City</th>\n",
       "      <th>Lat</th>\n",
       "      <th>Lng</th>\n",
       "      <th>Max Temp</th>\n",
       "      <th>Humidity</th>\n",
       "      <th>Cloudiness</th>\n",
       "      <th>Wind Speed</th>\n",
       "      <th>Country</th>\n",
       "      <th>Date</th>\n",
       "    </tr>\n",
       "  </thead>\n",
       "  <tbody>\n",
       "    <tr>\n",
       "      <th>0</th>\n",
       "      <td>mataura</td>\n",
       "      <td>-46.1927</td>\n",
       "      <td>168.8643</td>\n",
       "      <td>46.47</td>\n",
       "      <td>93</td>\n",
       "      <td>100</td>\n",
       "      <td>2.26</td>\n",
       "      <td>NZ</td>\n",
       "      <td>1661546023</td>\n",
       "    </tr>\n",
       "    <tr>\n",
       "      <th>1</th>\n",
       "      <td>cherskiy</td>\n",
       "      <td>68.7500</td>\n",
       "      <td>161.3000</td>\n",
       "      <td>40.51</td>\n",
       "      <td>79</td>\n",
       "      <td>100</td>\n",
       "      <td>4.36</td>\n",
       "      <td>RU</td>\n",
       "      <td>1661546024</td>\n",
       "    </tr>\n",
       "    <tr>\n",
       "      <th>2</th>\n",
       "      <td>rio gallegos</td>\n",
       "      <td>-51.6226</td>\n",
       "      <td>-69.2181</td>\n",
       "      <td>39.25</td>\n",
       "      <td>45</td>\n",
       "      <td>20</td>\n",
       "      <td>31.07</td>\n",
       "      <td>AR</td>\n",
       "      <td>1661546024</td>\n",
       "    </tr>\n",
       "    <tr>\n",
       "      <th>3</th>\n",
       "      <td>bengkulu</td>\n",
       "      <td>-3.8004</td>\n",
       "      <td>102.2655</td>\n",
       "      <td>74.35</td>\n",
       "      <td>91</td>\n",
       "      <td>100</td>\n",
       "      <td>4.29</td>\n",
       "      <td>ID</td>\n",
       "      <td>1661546024</td>\n",
       "    </tr>\n",
       "    <tr>\n",
       "      <th>4</th>\n",
       "      <td>sinjai</td>\n",
       "      <td>-5.1241</td>\n",
       "      <td>120.2530</td>\n",
       "      <td>75.67</td>\n",
       "      <td>90</td>\n",
       "      <td>91</td>\n",
       "      <td>2.91</td>\n",
       "      <td>ID</td>\n",
       "      <td>1661546025</td>\n",
       "    </tr>\n",
       "  </tbody>\n",
       "</table>\n",
       "</div>"
      ],
      "text/plain": [
       "           City      Lat       Lng  Max Temp  Humidity  Cloudiness  \\\n",
       "0       mataura -46.1927  168.8643     46.47        93         100   \n",
       "1      cherskiy  68.7500  161.3000     40.51        79         100   \n",
       "2  rio gallegos -51.6226  -69.2181     39.25        45          20   \n",
       "3      bengkulu  -3.8004  102.2655     74.35        91         100   \n",
       "4        sinjai  -5.1241  120.2530     75.67        90          91   \n",
       "\n",
       "   Wind Speed Country        Date  \n",
       "0        2.26      NZ  1661546023  \n",
       "1        4.36      RU  1661546024  \n",
       "2       31.07      AR  1661546024  \n",
       "3        4.29      ID  1661546024  \n",
       "4        2.91      ID  1661546025  "
      ]
     },
     "execution_count": 5,
     "metadata": {},
     "output_type": "execute_result"
    }
   ],
   "source": [
    "# Creating a dataframe with the weather info from the API\n",
    "weather_df = pd.DataFrame({\"City\": cities_found,\n",
    "                          \"Lat\": lat,\n",
    "                          \"Lng\": lng,\n",
    "                          \"Max Temp\": maxtemp,\n",
    "                          \"Humidity\": humidity,\n",
    "                          \"Cloudiness\": cloudiness,\n",
    "                          \"Wind Speed\": wind_speed,\n",
    "                          \"Country\": country,\n",
    "                          \"Date\": date})\n",
    "weather_df.head()"
   ]
  },
  {
   "cell_type": "code",
   "execution_count": 6,
   "metadata": {},
   "outputs": [
    {
     "data": {
      "text/html": [
       "<div>\n",
       "<style scoped>\n",
       "    .dataframe tbody tr th:only-of-type {\n",
       "        vertical-align: middle;\n",
       "    }\n",
       "\n",
       "    .dataframe tbody tr th {\n",
       "        vertical-align: top;\n",
       "    }\n",
       "\n",
       "    .dataframe thead th {\n",
       "        text-align: right;\n",
       "    }\n",
       "</style>\n",
       "<table border=\"1\" class=\"dataframe\">\n",
       "  <thead>\n",
       "    <tr style=\"text-align: right;\">\n",
       "      <th></th>\n",
       "      <th>City</th>\n",
       "      <th>Lat</th>\n",
       "      <th>Lng</th>\n",
       "      <th>Max Temp</th>\n",
       "      <th>Humidity</th>\n",
       "      <th>Cloudiness</th>\n",
       "      <th>Wind Speed</th>\n",
       "      <th>Country</th>\n",
       "      <th>Date</th>\n",
       "    </tr>\n",
       "  </thead>\n",
       "  <tbody>\n",
       "    <tr>\n",
       "      <th>0</th>\n",
       "      <td>mataura</td>\n",
       "      <td>-46.1927</td>\n",
       "      <td>168.8643</td>\n",
       "      <td>46.47</td>\n",
       "      <td>93</td>\n",
       "      <td>100</td>\n",
       "      <td>2.26</td>\n",
       "      <td>NZ</td>\n",
       "      <td>1661546023</td>\n",
       "    </tr>\n",
       "    <tr>\n",
       "      <th>1</th>\n",
       "      <td>cherskiy</td>\n",
       "      <td>68.7500</td>\n",
       "      <td>161.3000</td>\n",
       "      <td>40.51</td>\n",
       "      <td>79</td>\n",
       "      <td>100</td>\n",
       "      <td>4.36</td>\n",
       "      <td>RU</td>\n",
       "      <td>1661546024</td>\n",
       "    </tr>\n",
       "    <tr>\n",
       "      <th>2</th>\n",
       "      <td>rio gallegos</td>\n",
       "      <td>-51.6226</td>\n",
       "      <td>-69.2181</td>\n",
       "      <td>39.25</td>\n",
       "      <td>45</td>\n",
       "      <td>20</td>\n",
       "      <td>31.07</td>\n",
       "      <td>AR</td>\n",
       "      <td>1661546024</td>\n",
       "    </tr>\n",
       "    <tr>\n",
       "      <th>3</th>\n",
       "      <td>bengkulu</td>\n",
       "      <td>-3.8004</td>\n",
       "      <td>102.2655</td>\n",
       "      <td>74.35</td>\n",
       "      <td>91</td>\n",
       "      <td>100</td>\n",
       "      <td>4.29</td>\n",
       "      <td>ID</td>\n",
       "      <td>1661546024</td>\n",
       "    </tr>\n",
       "    <tr>\n",
       "      <th>4</th>\n",
       "      <td>sinjai</td>\n",
       "      <td>-5.1241</td>\n",
       "      <td>120.2530</td>\n",
       "      <td>75.67</td>\n",
       "      <td>90</td>\n",
       "      <td>91</td>\n",
       "      <td>2.91</td>\n",
       "      <td>ID</td>\n",
       "      <td>1661546025</td>\n",
       "    </tr>\n",
       "    <tr>\n",
       "      <th>...</th>\n",
       "      <td>...</td>\n",
       "      <td>...</td>\n",
       "      <td>...</td>\n",
       "      <td>...</td>\n",
       "      <td>...</td>\n",
       "      <td>...</td>\n",
       "      <td>...</td>\n",
       "      <td>...</td>\n",
       "      <td>...</td>\n",
       "    </tr>\n",
       "    <tr>\n",
       "      <th>561</th>\n",
       "      <td>dolores</td>\n",
       "      <td>-36.3132</td>\n",
       "      <td>-57.6792</td>\n",
       "      <td>60.40</td>\n",
       "      <td>79</td>\n",
       "      <td>12</td>\n",
       "      <td>10.04</td>\n",
       "      <td>AR</td>\n",
       "      <td>1661546320</td>\n",
       "    </tr>\n",
       "    <tr>\n",
       "      <th>562</th>\n",
       "      <td>nemuro</td>\n",
       "      <td>43.3236</td>\n",
       "      <td>145.5750</td>\n",
       "      <td>62.94</td>\n",
       "      <td>96</td>\n",
       "      <td>100</td>\n",
       "      <td>10.11</td>\n",
       "      <td>JP</td>\n",
       "      <td>1661546321</td>\n",
       "    </tr>\n",
       "    <tr>\n",
       "      <th>563</th>\n",
       "      <td>cururupu</td>\n",
       "      <td>-1.8283</td>\n",
       "      <td>-44.8683</td>\n",
       "      <td>77.05</td>\n",
       "      <td>79</td>\n",
       "      <td>62</td>\n",
       "      <td>3.91</td>\n",
       "      <td>BR</td>\n",
       "      <td>1661546306</td>\n",
       "    </tr>\n",
       "    <tr>\n",
       "      <th>564</th>\n",
       "      <td>eureka</td>\n",
       "      <td>40.8021</td>\n",
       "      <td>-124.1637</td>\n",
       "      <td>64.26</td>\n",
       "      <td>88</td>\n",
       "      <td>51</td>\n",
       "      <td>5.01</td>\n",
       "      <td>US</td>\n",
       "      <td>1661546322</td>\n",
       "    </tr>\n",
       "    <tr>\n",
       "      <th>565</th>\n",
       "      <td>terra santa</td>\n",
       "      <td>-2.1042</td>\n",
       "      <td>-56.4869</td>\n",
       "      <td>87.80</td>\n",
       "      <td>51</td>\n",
       "      <td>100</td>\n",
       "      <td>4.34</td>\n",
       "      <td>BR</td>\n",
       "      <td>1661546323</td>\n",
       "    </tr>\n",
       "  </tbody>\n",
       "</table>\n",
       "<p>566 rows × 9 columns</p>\n",
       "</div>"
      ],
      "text/plain": [
       "             City      Lat       Lng  Max Temp  Humidity  Cloudiness  \\\n",
       "0         mataura -46.1927  168.8643     46.47        93         100   \n",
       "1        cherskiy  68.7500  161.3000     40.51        79         100   \n",
       "2    rio gallegos -51.6226  -69.2181     39.25        45          20   \n",
       "3        bengkulu  -3.8004  102.2655     74.35        91         100   \n",
       "4          sinjai  -5.1241  120.2530     75.67        90          91   \n",
       "..            ...      ...       ...       ...       ...         ...   \n",
       "561       dolores -36.3132  -57.6792     60.40        79          12   \n",
       "562        nemuro  43.3236  145.5750     62.94        96         100   \n",
       "563      cururupu  -1.8283  -44.8683     77.05        79          62   \n",
       "564        eureka  40.8021 -124.1637     64.26        88          51   \n",
       "565   terra santa  -2.1042  -56.4869     87.80        51         100   \n",
       "\n",
       "     Wind Speed Country        Date  \n",
       "0          2.26      NZ  1661546023  \n",
       "1          4.36      RU  1661546024  \n",
       "2         31.07      AR  1661546024  \n",
       "3          4.29      ID  1661546024  \n",
       "4          2.91      ID  1661546025  \n",
       "..          ...     ...         ...  \n",
       "561       10.04      AR  1661546320  \n",
       "562       10.11      JP  1661546321  \n",
       "563        3.91      BR  1661546306  \n",
       "564        5.01      US  1661546322  \n",
       "565        4.34      BR  1661546323  \n",
       "\n",
       "[566 rows x 9 columns]"
      ]
     },
     "execution_count": 6,
     "metadata": {},
     "output_type": "execute_result"
    }
   ],
   "source": [
    "# Export to a csv file\n",
    "weather_df.to_csv(\"../data/weather.csv\", index = False)\n",
    "weather_df"
   ]
  },
  {
   "cell_type": "code",
   "execution_count": 7,
   "metadata": {},
   "outputs": [
    {
     "data": {
      "text/html": [
       "<div>\n",
       "<style scoped>\n",
       "    .dataframe tbody tr th:only-of-type {\n",
       "        vertical-align: middle;\n",
       "    }\n",
       "\n",
       "    .dataframe tbody tr th {\n",
       "        vertical-align: top;\n",
       "    }\n",
       "\n",
       "    .dataframe thead th {\n",
       "        text-align: right;\n",
       "    }\n",
       "</style>\n",
       "<table border=\"1\" class=\"dataframe\">\n",
       "  <thead>\n",
       "    <tr style=\"text-align: right;\">\n",
       "      <th></th>\n",
       "      <th>Lat</th>\n",
       "      <th>Lng</th>\n",
       "      <th>Max Temp</th>\n",
       "      <th>Humidity</th>\n",
       "      <th>Cloudiness</th>\n",
       "      <th>Wind Speed</th>\n",
       "      <th>Date</th>\n",
       "    </tr>\n",
       "  </thead>\n",
       "  <tbody>\n",
       "    <tr>\n",
       "      <th>count</th>\n",
       "      <td>566.000000</td>\n",
       "      <td>566.000000</td>\n",
       "      <td>566.000000</td>\n",
       "      <td>566.000000</td>\n",
       "      <td>566.000000</td>\n",
       "      <td>566.000000</td>\n",
       "      <td>5.660000e+02</td>\n",
       "    </tr>\n",
       "    <tr>\n",
       "      <th>mean</th>\n",
       "      <td>18.020078</td>\n",
       "      <td>21.692641</td>\n",
       "      <td>69.429700</td>\n",
       "      <td>71.560071</td>\n",
       "      <td>56.487633</td>\n",
       "      <td>7.687650</td>\n",
       "      <td>1.661546e+09</td>\n",
       "    </tr>\n",
       "    <tr>\n",
       "      <th>std</th>\n",
       "      <td>32.567413</td>\n",
       "      <td>91.568661</td>\n",
       "      <td>14.360018</td>\n",
       "      <td>20.343748</td>\n",
       "      <td>38.285500</td>\n",
       "      <td>5.155355</td>\n",
       "      <td>1.115607e+02</td>\n",
       "    </tr>\n",
       "    <tr>\n",
       "      <th>min</th>\n",
       "      <td>-54.800000</td>\n",
       "      <td>-179.166700</td>\n",
       "      <td>31.930000</td>\n",
       "      <td>11.000000</td>\n",
       "      <td>0.000000</td>\n",
       "      <td>0.000000</td>\n",
       "      <td>1.661545e+09</td>\n",
       "    </tr>\n",
       "    <tr>\n",
       "      <th>25%</th>\n",
       "      <td>-8.138275</td>\n",
       "      <td>-58.025150</td>\n",
       "      <td>60.332500</td>\n",
       "      <td>64.000000</td>\n",
       "      <td>20.000000</td>\n",
       "      <td>3.800000</td>\n",
       "      <td>1.661546e+09</td>\n",
       "    </tr>\n",
       "    <tr>\n",
       "      <th>50%</th>\n",
       "      <td>21.187850</td>\n",
       "      <td>30.726450</td>\n",
       "      <td>72.580000</td>\n",
       "      <td>76.000000</td>\n",
       "      <td>65.500000</td>\n",
       "      <td>6.720000</td>\n",
       "      <td>1.661546e+09</td>\n",
       "    </tr>\n",
       "    <tr>\n",
       "      <th>75%</th>\n",
       "      <td>42.876425</td>\n",
       "      <td>103.624525</td>\n",
       "      <td>79.430000</td>\n",
       "      <td>87.000000</td>\n",
       "      <td>97.000000</td>\n",
       "      <td>10.360000</td>\n",
       "      <td>1.661546e+09</td>\n",
       "    </tr>\n",
       "    <tr>\n",
       "      <th>max</th>\n",
       "      <td>78.218600</td>\n",
       "      <td>178.416700</td>\n",
       "      <td>102.760000</td>\n",
       "      <td>100.000000</td>\n",
       "      <td>100.000000</td>\n",
       "      <td>33.380000</td>\n",
       "      <td>1.661546e+09</td>\n",
       "    </tr>\n",
       "  </tbody>\n",
       "</table>\n",
       "</div>"
      ],
      "text/plain": [
       "              Lat         Lng    Max Temp    Humidity  Cloudiness  Wind Speed  \\\n",
       "count  566.000000  566.000000  566.000000  566.000000  566.000000  566.000000   \n",
       "mean    18.020078   21.692641   69.429700   71.560071   56.487633    7.687650   \n",
       "std     32.567413   91.568661   14.360018   20.343748   38.285500    5.155355   \n",
       "min    -54.800000 -179.166700   31.930000   11.000000    0.000000    0.000000   \n",
       "25%     -8.138275  -58.025150   60.332500   64.000000   20.000000    3.800000   \n",
       "50%     21.187850   30.726450   72.580000   76.000000   65.500000    6.720000   \n",
       "75%     42.876425  103.624525   79.430000   87.000000   97.000000   10.360000   \n",
       "max     78.218600  178.416700  102.760000  100.000000  100.000000   33.380000   \n",
       "\n",
       "               Date  \n",
       "count  5.660000e+02  \n",
       "mean   1.661546e+09  \n",
       "std    1.115607e+02  \n",
       "min    1.661545e+09  \n",
       "25%    1.661546e+09  \n",
       "50%    1.661546e+09  \n",
       "75%    1.661546e+09  \n",
       "max    1.661546e+09  "
      ]
     },
     "execution_count": 7,
     "metadata": {},
     "output_type": "execute_result"
    }
   ],
   "source": [
    "# Look at statisical data for our weather dataframe\n",
    "weather_df.describe()"
   ]
  },
  {
   "cell_type": "markdown",
   "metadata": {},
   "source": [
    "## Inspect the data and remove the cities where the humidity > 100%.\n",
    "----\n",
    "Skip this step if there are no cities that have humidity > 100%. "
   ]
  },
  {
   "cell_type": "code",
   "execution_count": 8,
   "metadata": {},
   "outputs": [],
   "source": [
    "# There are not any city over 100% since the max humidity in the table above is 100 so this step is going to be skipped."
   ]
  },
  {
   "cell_type": "code",
   "execution_count": 9,
   "metadata": {},
   "outputs": [],
   "source": [
    "#  Get the indices of cities that have humidity over 100%."
   ]
  },
  {
   "cell_type": "code",
   "execution_count": 10,
   "metadata": {},
   "outputs": [],
   "source": [
    "# Make a new DataFrame equal to the city data to drop all humidity outliers by index.\n",
    "# Passing \"inplace=False\" will make a copy of the city_data DataFrame, which we call \"clean_city_data\"."
   ]
  },
  {
   "cell_type": "markdown",
   "metadata": {},
   "source": [
    "## Plotting the Data\n",
    "* Use proper labeling of the plots using plot titles (including date of analysis) and axes labels.\n",
    "* Save the plotted figures as .pngs."
   ]
  },
  {
   "cell_type": "markdown",
   "metadata": {},
   "source": [
    "## Latitude vs. Temperature Plot"
   ]
  },
  {
   "cell_type": "code",
   "execution_count": 11,
   "metadata": {},
   "outputs": [],
   "source": [
    "# Format to get the current date from the weather dataframe\n",
    "weatherdate = weather_df[\"Date\"].max()\n",
    "todaysdate = datetime.utcfromtimestamp(weatherdate).strftime(\"%m/%d/%y\")"
   ]
  },
  {
   "cell_type": "code",
   "execution_count": 12,
   "metadata": {
    "scrolled": true
   },
   "outputs": [
    {
     "data": {
      "image/png": "[encoded data removed]",
      "text/plain": [
       "<Figure size 432x288 with 1 Axes>"
      ]
     },
     "metadata": {
      "needs_background": "light"
     },
     "output_type": "display_data"
    }
   ],
   "source": [
    "# Create a scatterplot for Lat vs. Max Temp\n",
    "plt.scatter(weather_df[\"Lat\"], weather_df[\"Max Temp\"], edgecolor=\"black\")\n",
    "plt.title(f\"City Latitude vs. Max Temperature {todaysdate}\")\n",
    "plt.xlabel(\"Latitude\")\n",
    "plt.ylabel(\"Max Tempurature (F)\")\n",
    "plt.grid()\n",
    "\n",
    "#Save scatterplot as a png\n",
    "plt.savefig(\"../Images/City Latitude vs. Max Temperature.png\")\n",
    "\n",
    "plt.show()"
   ]
  },
  {
   "cell_type": "markdown",
   "metadata": {},
   "source": [
    "Latitude Vs Temperature Analysis\n",
    "\n",
    "The scatterplot above shows the latitude of each city and the max temperature for that city. It shows that the closer you are to the equator (Latitude 0) the higher the max temperature and the further away you are from the equator the lower the max temperature."
   ]
  },
  {
   "cell_type": "markdown",
   "metadata": {},
   "source": [
    "## Latitude vs. Humidity Plot"
   ]
  },
  {
   "cell_type": "code",
   "execution_count": 13,
   "metadata": {},
   "outputs": [
    {
     "data": {
      "image/png": "[encoded data removed]",
      "text/plain": [
       "<Figure size 432x288 with 1 Axes>"
      ]
     },
     "metadata": {
      "needs_background": "light"
     },
     "output_type": "display_data"
    }
   ],
   "source": [
    "# Create a scatterplot for Lat vs. Humidity\n",
    "plt.scatter(weather_df[\"Lat\"], weather_df[\"Humidity\"], edgecolor=\"black\")\n",
    "plt.title(f\"City Latitude vs. Humidity {todaysdate}\")\n",
    "plt.xlabel(\"Latitude\")\n",
    "plt.ylabel(\"Humidity (%)\")\n",
    "plt.grid()\n",
    "\n",
    "#Save scatterplot as a png\n",
    "plt.savefig(\"../Images/City Latitude vs. Humidity.png\")\n",
    "\n",
    "plt.show()"
   ]
  },
  {
   "cell_type": "markdown",
   "metadata": {},
   "source": [
    "Latitude vs. Humidity Analysis\n",
    "\n",
    "The scatterplot above shows the latitude vs humidity. There is no direct correlation between latitude and humidity since the humidity percentage is all over the place."
   ]
  },
  {
   "cell_type": "markdown",
   "metadata": {},
   "source": [
    "## Latitude vs. Cloudiness Plot"
   ]
  },
  {
   "cell_type": "code",
   "execution_count": 14,
   "metadata": {},
   "outputs": [
    {
     "data": {
      "image/png": "[encoded data removed]",
      "text/plain": [
       "<Figure size 432x288 with 1 Axes>"
      ]
     },
     "metadata": {
      "needs_background": "light"
     },
     "output_type": "display_data"
    }
   ],
   "source": [
    "# Create a scatterplot for Lat vs. Cloudiness\n",
    "plt.scatter(weather_df[\"Lat\"], weather_df[\"Cloudiness\"], edgecolor=\"black\")\n",
    "plt.title(f\"City Latitude vs. Cloudiness {todaysdate}\")\n",
    "plt.xlabel(\"Latitude\")\n",
    "plt.ylabel(\"Cloudiness (%)\")\n",
    "plt.grid()\n",
    "\n",
    "#Save scatterplot as a png\n",
    "plt.savefig(\"../Images/City Latitude vs. Cloudiness.png\")\n",
    "\n",
    "plt.show()"
   ]
  },
  {
   "cell_type": "markdown",
   "metadata": {},
   "source": [
    "Latitude vs Cloudiness Analysis\n",
    "\n",
    "The scatterplot show the city's latitude vs. the city's cloudiness. There is no correlation between between cloudiness and latitude but there is a heavy bias towards 100% and 0% cloudiness."
   ]
  },
  {
   "cell_type": "markdown",
   "metadata": {},
   "source": [
    "## Latitude vs. Wind Speed Plot"
   ]
  },
  {
   "cell_type": "code",
   "execution_count": 15,
   "metadata": {},
   "outputs": [
    {
     "data": {
      "image/png": "[encoded data removed]",
      "text/plain": [
       "<Figure size 432x288 with 1 Axes>"
      ]
     },
     "metadata": {
      "needs_background": "light"
     },
     "output_type": "display_data"
    }
   ],
   "source": [
    "# Create a scatterplot for Lat vs. Wind Speed\n",
    "plt.scatter(weather_df[\"Lat\"], weather_df[\"Wind Speed\"], edgecolor=\"black\")\n",
    "plt.title(f\"City Latitude vs. Wind Speed {todaysdate}\")\n",
    "plt.xlabel(\"Latitude\")\n",
    "plt.ylabel(\"Wind Speed (%)\")\n",
    "plt.grid()\n",
    "\n",
    "#Save scatterplot as a png\n",
    "plt.savefig(\"../Images/City Latitude vs. Wind Speed.png\")\n",
    "\n",
    "plt.show()"
   ]
  },
  {
   "cell_type": "markdown",
   "metadata": {},
   "source": [
    "Latitude vs Wind Speed Analysis\n",
    "\n",
    "The scatterplot above show the city's latitude vs the wind speed. There is no correlation between latitude and wind speed."
   ]
  },
  {
   "cell_type": "markdown",
   "metadata": {},
   "source": [
    "## Linear Regression"
   ]
  },
  {
   "cell_type": "code",
   "execution_count": 16,
   "metadata": {},
   "outputs": [],
   "source": [
    "# Create new dataframes for the northern and southern hemispheres\n",
    "northern_df = weather_df.loc[weather_df[\"Lat\"] >= 0]\n",
    "southern_df = weather_df.loc[weather_df[\"Lat\"] < 0]"
   ]
  },
  {
   "cell_type": "markdown",
   "metadata": {},
   "source": [
    "####  Northern Hemisphere - Max Temp vs. Latitude Linear Regression"
   ]
  },
  {
   "cell_type": "code",
   "execution_count": 17,
   "metadata": {},
   "outputs": [
    {
     "name": "stdout",
     "output_type": "stream",
     "text": [
      "The r-value is: -0.696691812263035\n"
     ]
    },
    {
     "data": {
      "image/png": "[encoded data removed]",
      "text/plain": [
       "<Figure size 432x288 with 1 Axes>"
      ]
     },
     "metadata": {
      "needs_background": "light"
     },
     "output_type": "display_data"
    }
   ],
   "source": [
    "# Create a linear regression for max temp vs lat for the northern hemisphere and save the figure.\n",
    "x_values = northern_df[\"Lat\"]\n",
    "y_values = northern_df[\"Max Temp\"]\n",
    "(slope, intercept, rvalue, pvalue, stderr) = linregress(x_values, y_values)\n",
    "regress_values = x_values * slope + intercept\n",
    "line_eq = \"y = \" + str(round(slope,2)) + \"x + \" + str(round(intercept,2))\n",
    "plt.scatter(x_values,y_values)\n",
    "plt.plot(x_values,regress_values,\"r-\")\n",
    "print(f\"The r-value is: {rvalue}\")\n",
    "plt.annotate(line_eq,(.5,37),fontsize=15,color=\"red\")\n",
    "plt.xlabel(\"Latitude\")\n",
    "plt.ylabel(\"Max Temp (F)\")\n",
    "plt.savefig(\"../Images/Northern Hemisphere - Lat vs Max Temp.png\")\n",
    "plt.show()"
   ]
  },
  {
   "cell_type": "markdown",
   "metadata": {},
   "source": [
    "There is a negative correlation between latitude and max temperatures for the northern hemisphere meaning that the further you get away from latitude 0 (equator) the temperatures go down."
   ]
  },
  {
   "cell_type": "markdown",
   "metadata": {},
   "source": [
    "####  Southern Hemisphere - Max Temp vs. Latitude Linear Regression"
   ]
  },
  {
   "cell_type": "code",
   "execution_count": 18,
   "metadata": {},
   "outputs": [
    {
     "name": "stdout",
     "output_type": "stream",
     "text": [
      "The r-value is: 0.6966647405960551\n"
     ]
    },
    {
     "data": {
      "image/png": "[encoded data removed]",
      "text/plain": [
       "<Figure size 432x288 with 1 Axes>"
      ]
     },
     "metadata": {
      "needs_background": "light"
     },
     "output_type": "display_data"
    }
   ],
   "source": [
    "# Create a linear regression for max temp vs lat for the southern hemisphere and save the figure.\n",
    "x_values = southern_df[\"Lat\"]\n",
    "y_values = southern_df[\"Max Temp\"]\n",
    "(slope, intercept, rvalue, pvalue, stderr) = linregress(x_values, y_values)\n",
    "regress_values = x_values * slope + intercept\n",
    "line_eq = \"y = \" + str(round(slope,2)) + \"x + \" + str(round(intercept,2))\n",
    "plt.scatter(x_values,y_values)\n",
    "plt.plot(x_values,regress_values,\"r-\")\n",
    "print(f\"The r-value is: {rvalue}\")\n",
    "plt.annotate(line_eq,(-55,90),fontsize=15,color=\"red\")\n",
    "plt.xlabel(\"Latitude\")\n",
    "plt.ylabel(\"Max Temp (F)\")\n",
    "plt.savefig(\"../Images/Southern Hemisphere - Lat vs Max Temp.png\")\n",
    "plt.show()"
   ]
  },
  {
   "cell_type": "markdown",
   "metadata": {},
   "source": [
    "There is fairly strong positive correlation between latitude and max tempertures for the southern hemisphere meaning the closer you get to latitude 0 (equator) the higher the temperatures will be."
   ]
  },
  {
   "cell_type": "markdown",
   "metadata": {},
   "source": [
    "####  Northern Hemisphere - Humidity (%) vs. Latitude Linear Regression"
   ]
  },
  {
   "cell_type": "code",
   "execution_count": 22,
   "metadata": {},
   "outputs": [
    {
     "name": "stdout",
     "output_type": "stream",
     "text": [
      "The r-value is: -0.06550061047339045\n"
     ]
    },
    {
     "data": {
      "image/png": "[encoded data removed]",
      "text/plain": [
       "<Figure size 432x288 with 1 Axes>"
      ]
     },
     "metadata": {
      "needs_background": "light"
     },
     "output_type": "display_data"
    }
   ],
   "source": [
    "# Create a linear regression for humidity vs lat for the northern hemisphere and save the figure.\n",
    "x_values = northern_df[\"Lat\"]\n",
    "y_values = northern_df[\"Humidity\"]\n",
    "(slope, intercept, rvalue, pvalue, stderr) = linregress(x_values, y_values)\n",
    "regress_values = x_values * slope + intercept\n",
    "line_eq = \"y = \" + str(round(slope,2)) + \"x + \" + str(round(intercept,2))\n",
    "plt.scatter(x_values,y_values)\n",
    "plt.plot(x_values,regress_values,\"r-\")\n",
    "print(f\"The r-value is: {rvalue}\")\n",
    "plt.annotate(line_eq,(42,10),fontsize=15,color=\"red\")\n",
    "plt.xlabel(\"Latitude\")\n",
    "plt.ylabel(\"Humidity (%)\")\n",
    "plt.savefig(\"../Images/Northern Hemisphere - Lat vs Humidity.png\")\n",
    "plt.show()"
   ]
  },
  {
   "cell_type": "markdown",
   "metadata": {},
   "source": [
    "There is no correlation between latitude and humidity in the northern hemisphere."
   ]
  },
  {
   "cell_type": "markdown",
   "metadata": {},
   "source": [
    "####  Southern Hemisphere - Humidity (%) vs. Latitude Linear Regression"
   ]
  },
  {
   "cell_type": "code",
   "execution_count": 28,
   "metadata": {},
   "outputs": [
    {
     "name": "stdout",
     "output_type": "stream",
     "text": [
      "The r-value is: -0.0406685233732528\n"
     ]
    },
    {
     "data": {
      "image/png": "[encoded data removed]",
      "text/plain": [
       "<Figure size 432x288 with 1 Axes>"
      ]
     },
     "metadata": {
      "needs_background": "light"
     },
     "output_type": "display_data"
    }
   ],
   "source": [
    "# Create a linear regression for humidity vs lat for the southern hemisphere and save the figure.\n",
    "x_values = southern_df[\"Lat\"]\n",
    "y_values = southern_df[\"Humidity\"]\n",
    "(slope, intercept, rvalue, pvalue, stderr) = linregress(x_values, y_values)\n",
    "regress_values = x_values * slope + intercept\n",
    "line_eq = \"y = \" + str(round(slope,2)) + \"x + \" + str(round(intercept,2))\n",
    "plt.scatter(x_values,y_values)\n",
    "plt.plot(x_values,regress_values,\"r-\")\n",
    "print(f\"The r-value is: {rvalue}\")\n",
    "plt.annotate(line_eq,(-30,12),fontsize=15,color=\"red\")\n",
    "plt.xlabel(\"Latitude\")\n",
    "plt.ylabel(\"Humidity (%)\")\n",
    "plt.savefig(\"../Images/Southern Hemisphere - Lat vs Humidity.png\")\n",
    "plt.show()"
   ]
  },
  {
   "cell_type": "markdown",
   "metadata": {},
   "source": [
    "There is no correlation between latitude and humidity in the southern hemisphere."
   ]
  },
  {
   "cell_type": "markdown",
   "metadata": {},
   "source": [
    "####  Northern Hemisphere - Cloudiness (%) vs. Latitude Linear Regression"
   ]
  },
  {
   "cell_type": "code",
   "execution_count": 29,
   "metadata": {},
   "outputs": [
    {
     "name": "stdout",
     "output_type": "stream",
     "text": [
      "The r-value is: -0.024338992220031445\n"
     ]
    },
    {
     "data": {
      "image/png": "[encoded data removed]",
      "text/plain": [
       "<Figure size 432x288 with 1 Axes>"
      ]
     },
     "metadata": {
      "needs_background": "light"
     },
     "output_type": "display_data"
    }
   ],
   "source": [
    "# Create a linear regression for cloudiness vs lat for the northern hemisphere and save the figure.\n",
    "x_values = northern_df[\"Lat\"]\n",
    "y_values = northern_df[\"Cloudiness\"]\n",
    "(slope, intercept, rvalue, pvalue, stderr) = linregress(x_values, y_values)\n",
    "regress_values = x_values * slope + intercept\n",
    "line_eq = \"y = \" + str(round(slope,2)) + \"x + \" + str(round(intercept,2))\n",
    "plt.scatter(x_values,y_values)\n",
    "plt.plot(x_values,regress_values,\"r-\")\n",
    "print(f\"The r-value is: {rvalue}\")\n",
    "plt.annotate(line_eq,(42,10),fontsize=15,color=\"red\")\n",
    "plt.xlabel(\"Latitude\")\n",
    "plt.ylabel(\"Cloudiness (%)\")\n",
    "plt.savefig(\"../Images/Northern Hemisphere - Lat vs Cloudiness.png\")\n",
    "plt.show()"
   ]
  },
  {
   "cell_type": "markdown",
   "metadata": {},
   "source": [
    "There is no correlation between latitude and cloudiness in the northern hemisphere."
   ]
  },
  {
   "cell_type": "markdown",
   "metadata": {},
   "source": [
    "####  Southern Hemisphere - Cloudiness (%) vs. Latitude Linear Regression"
   ]
  },
  {
   "cell_type": "code",
   "execution_count": 30,
   "metadata": {},
   "outputs": [
    {
     "name": "stdout",
     "output_type": "stream",
     "text": [
      "The r-value is: 0.10016909159231947\n"
     ]
    },
    {
     "data": {
      "image/png": "[encoded data removed]",
      "text/plain": [
       "<Figure size 432x288 with 1 Axes>"
      ]
     },
     "metadata": {
      "needs_background": "light"
     },
     "output_type": "display_data"
    }
   ],
   "source": [
    "# Create a linear regression for cloudiness vs lat for the southern hemisphere and save the figure.\n",
    "x_values = southern_df[\"Lat\"]\n",
    "y_values = southern_df[\"Cloudiness\"]\n",
    "(slope, intercept, rvalue, pvalue, stderr) = linregress(x_values, y_values)\n",
    "regress_values = x_values * slope + intercept\n",
    "line_eq = \"y = \" + str(round(slope,2)) + \"x + \" + str(round(intercept,2))\n",
    "plt.scatter(x_values,y_values)\n",
    "plt.plot(x_values,regress_values,\"r-\")\n",
    "print(f\"The r-value is: {rvalue}\")\n",
    "plt.annotate(line_eq,(-30,12),fontsize=15,color=\"red\")\n",
    "plt.xlabel(\"Latitude\")\n",
    "plt.ylabel(\"Cloudiness (%)\")\n",
    "plt.savefig(\"../Images/Southern Hemisphere - Lat vs Cloudiness.png\")\n",
    "plt.show()"
   ]
  },
  {
   "cell_type": "markdown",
   "metadata": {},
   "source": [
    "There is a slight positive correlation between latitude and cloudiness in the southern hemisphere."
   ]
  },
  {
   "cell_type": "markdown",
   "metadata": {},
   "source": [
    "####  Northern Hemisphere - Wind Speed (mph) vs. Latitude Linear Regression"
   ]
  },
  {
   "cell_type": "code",
   "execution_count": 34,
   "metadata": {},
   "outputs": [
    {
     "name": "stdout",
     "output_type": "stream",
     "text": [
      "The r-value is: 0.04883604277275661\n"
     ]
    },
    {
     "data": {
      "image/png": "[encoded data removed]",
      "text/plain": [
       "<Figure size 432x288 with 1 Axes>"
      ]
     },
     "metadata": {
      "needs_background": "light"
     },
     "output_type": "display_data"
    }
   ],
   "source": [
    "# Create a linear regression for wind speed vs lat for the northern hemisphere and save the figure.\n",
    "x_values = northern_df[\"Lat\"]\n",
    "y_values = northern_df[\"Wind Speed\"]\n",
    "(slope, intercept, rvalue, pvalue, stderr) = linregress(x_values, y_values)\n",
    "regress_values = x_values * slope + intercept\n",
    "line_eq = \"y = \" + str(round(slope,2)) + \"x + \" + str(round(intercept,2))\n",
    "plt.scatter(x_values,y_values)\n",
    "plt.plot(x_values,regress_values,\"r-\")\n",
    "print(f\"The r-value is: {rvalue}\")\n",
    "plt.annotate(line_eq,(15,21),fontsize=15,color=\"red\")\n",
    "plt.xlabel(\"Latitude\")\n",
    "plt.ylabel(\"Wind Speed (mph)\")\n",
    "plt.savefig(\"../Images/Northern Hemisphere - Lat vs Wind Speed.png\")\n",
    "plt.show()"
   ]
  },
  {
   "cell_type": "markdown",
   "metadata": {},
   "source": [
    "There is no correlation between latitude and wind speed in the northern hemisphere."
   ]
  },
  {
   "cell_type": "markdown",
   "metadata": {},
   "source": [
    "####  Southern Hemisphere - Wind Speed (mph) vs. Latitude Linear Regression"
   ]
  },
  {
   "cell_type": "code",
   "execution_count": 37,
   "metadata": {},
   "outputs": [
    {
     "name": "stdout",
     "output_type": "stream",
     "text": [
      "The r-value is: -0.24454428755563976\n"
     ]
    },
    {
     "data": {
      "image/png": "[encoded data removed]",
      "text/plain": [
       "<Figure size 432x288 with 1 Axes>"
      ]
     },
     "metadata": {
      "needs_background": "light"
     },
     "output_type": "display_data"
    }
   ],
   "source": [
    "# Create a linear regression for wind speed vs lat for the southern hemisphere and save the figure.\n",
    "x_values = southern_df[\"Lat\"]\n",
    "y_values = southern_df[\"Wind Speed\"]\n",
    "(slope, intercept, rvalue, pvalue, stderr) = linregress(x_values, y_values)\n",
    "regress_values = x_values * slope + intercept\n",
    "line_eq = \"y = \" + str(round(slope,2)) + \"x + \" + str(round(intercept,2))\n",
    "plt.scatter(x_values,y_values)\n",
    "plt.plot(x_values,regress_values,\"r-\")\n",
    "print(f\"The r-value is: {rvalue}\")\n",
    "plt.annotate(line_eq,(-52,21),fontsize=15,color=\"red\")\n",
    "plt.xlabel(\"Latitude\")\n",
    "plt.ylabel(\"Wind Speed (mph)\")\n",
    "plt.savefig(\"../Images/Southern Hemisphere - Lat vs Wind Speed.png\")\n",
    "plt.show()"
   ]
  },
  {
   "cell_type": "markdown",
   "metadata": {},
   "source": [
    "There is no correlation between latitude and wind speed in the southern hemisphere."
   ]
  },
  {
   "cell_type": "markdown",
   "metadata": {},
   "source": [
    "#### Data Analysis\n",
    "\n",
    "1. Max tempertures are higher at the equator but that is where the sun is closest to teh earth and that is shown by both linear regression models and the latitude scatterplot.\n",
    "2. There was a slight positive correlation with cloudiness and the south which is probably due to it being spring and rain is tytpically higher in that season.\n",
    "3. Other than the first two there is no relationship between the latitude and anything else. One location is not going to have more humidity or have higher wind speeds based on latitude. "
   ]
  },
  {
   "cell_type": "code",
   "execution_count": null,
   "metadata": {},
   "outputs": [],
   "source": []
  }
 ],
 "metadata": {
  "anaconda-cloud": {},
  "kernel_info": {
   "name": "python3"
  },
  "kernelspec": {
   "display_name": "Python 3 (ipykernel)",
   "language": "python",
   "name": "python3"
  },
  "language_info": {
   "codemirror_mode": {
    "name": "ipython",
    "version": 3
   },
   "file_extension": ".py",
   "mimetype": "text/x-python",
   "name": "python",
   "nbconvert_exporter": "python",
   "pygments_lexer": "ipython3",
   "version": "3.9.12"
  },
  "latex_envs": {
   "LaTeX_envs_menu_present": true,
   "autoclose": false,
   "autocomplete": true,
   "bibliofile": "biblio.bib",
   "cite_by": "apalike",
   "current_citInitial": 1,
   "eqLabelWithNumbers": true,
   "eqNumInitial": 1,
   "hotkeys": {
    "equation": "Ctrl-E",
    "itemize": "Ctrl-I"
   },
   "labels_anchors": false,
   "latex_user_defs": false,
   "report_style_numbering": false,
   "user_envs_cfg": false
  },
  "nteract": {
   "version": "0.12.3"
  }
 },
 "nbformat": 4,
 "nbformat_minor": 2
}
